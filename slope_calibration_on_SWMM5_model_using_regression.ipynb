{
  "nbformat": 4,
  "nbformat_minor": 0,
  "metadata": {
    "colab": {
      "provenance": [],
      "authorship_tag": "ABX9TyOmsBNpc8OoCTpoln6//jzZ",
      "include_colab_link": true
    },
    "kernelspec": {
      "name": "python3",
      "display_name": "Python 3"
    },
    "language_info": {
      "name": "python"
    }
  },
  "cells": [
    {
      "cell_type": "markdown",
      "metadata": {
        "id": "view-in-github",
        "colab_type": "text"
      },
      "source": [
        "<a href=\"https://colab.research.google.com/github/BuczynskiRafal/slope_calibration_on_SWMM5_model_using_regression/blob/main/slope_calibration_on_SWMM5_model_using_regression.ipynb\" target=\"_parent\"><img src=\"https://colab.research.google.com/assets/colab-badge.svg\" alt=\"Open In Colab\"/></a>"
      ]
    },
    {
      "cell_type": "markdown",
      "source": [
        "# Install extensions\n"
      ],
      "metadata": {
        "id": "qub1TES8cgvk"
      }
    },
    {
      "cell_type": "code",
      "execution_count": 1,
      "metadata": {
        "colab": {
          "base_uri": "https://localhost:8080/"
        },
        "id": "S_dpn_eWcQGH",
        "outputId": "0c33f72d-9009-4eb3-916d-6c1d80e36f3c"
      },
      "outputs": [
        {
          "output_type": "stream",
          "name": "stdout",
          "text": [
            "Looking in indexes: https://pypi.org/simple, https://us-python.pkg.dev/colab-wheels/public/simple/\n",
            "Collecting pyswmm\n",
            "  Downloading pyswmm-1.2.0-py3-none-any.whl (101 kB)\n",
            "\u001b[K     |████████████████████████████████| 101 kB 7.1 MB/s \n",
            "\u001b[?25hCollecting aenum>=3.1.11\n",
            "  Downloading aenum-3.1.11-py3-none-any.whl (131 kB)\n",
            "\u001b[K     |████████████████████████████████| 131 kB 54.7 MB/s \n",
            "\u001b[?25hCollecting swmm-toolkit>=0.9.0\n",
            "  Downloading swmm_toolkit-0.9.0-cp37-cp37m-manylinux_2_17_x86_64.manylinux2014_x86_64.whl (458 kB)\n",
            "\u001b[K     |████████████████████████████████| 458 kB 62.1 MB/s \n",
            "\u001b[?25hCollecting julian>=0.14\n",
            "  Downloading julian-0.14.zip (2.8 kB)\n",
            "Building wheels for collected packages: julian\n",
            "  Building wheel for julian (setup.py) ... \u001b[?25l\u001b[?25hdone\n",
            "  Created wheel for julian: filename=julian-0.14-py3-none-any.whl size=2633 sha256=d199def44428b2a16a45f30084f17b5e7289ad34a09eddcee1f937635fe052aa\n",
            "  Stored in directory: /root/.cache/pip/wheels/bb/58/2a/4109ff5870c163b26a499fb8b828ede50e96264571a4f082d3\n",
            "Successfully built julian\n",
            "Installing collected packages: aenum, swmm-toolkit, julian, pyswmm\n",
            "Successfully installed aenum-3.1.11 julian-0.14 pyswmm-1.2.0 swmm-toolkit-0.9.0\n"
          ]
        }
      ],
      "source": [
        "!pip install pyswmm"
      ]
    },
    {
      "cell_type": "markdown",
      "source": [
        "# Imports"
      ],
      "metadata": {
        "id": "kXFB6oVgckpR"
      }
    },
    {
      "cell_type": "code",
      "source": [
        "from pyswmm import Simulation"
      ],
      "metadata": {
        "id": "6vDJMA_ScZFl"
      },
      "execution_count": 3,
      "outputs": []
    }
  ]
}