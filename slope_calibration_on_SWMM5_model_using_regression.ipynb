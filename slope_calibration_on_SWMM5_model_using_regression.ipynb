{
  "nbformat": 4,
  "nbformat_minor": 0,
  "metadata": {
    "colab": {
      "provenance": [],
      "authorship_tag": "ABX9TyP8sdypN3LcaJfCSl5kVuXJ",
      "include_colab_link": true
    },
    "kernelspec": {
      "name": "python3",
      "display_name": "Python 3"
    },
    "language_info": {
      "name": "python"
    }
  },
  "cells": [
    {
      "cell_type": "markdown",
      "metadata": {
        "id": "view-in-github",
        "colab_type": "text"
      },
      "source": [
        "<a href=\"https://colab.research.google.com/github/BuczynskiRafal/slope_calibration_on_SWMM5_model_using_regression/blob/main/slope_calibration_on_SWMM5_model_using_regression.ipynb\" target=\"_parent\"><img src=\"https://colab.research.google.com/assets/colab-badge.svg\" alt=\"Open In Colab\"/></a>"
      ]
    },
    {
      "cell_type": "markdown",
      "source": [
        "# Install extensions\n"
      ],
      "metadata": {
        "id": "qub1TES8cgvk"
      }
    },
    {
      "cell_type": "code",
      "execution_count": 1,
      "metadata": {
        "colab": {
          "base_uri": "https://localhost:8080/"
        },
        "id": "S_dpn_eWcQGH",
        "outputId": "0c33f72d-9009-4eb3-916d-6c1d80e36f3c"
      },
      "outputs": [
        {
          "output_type": "stream",
          "name": "stdout",
          "text": [
            "Looking in indexes: https://pypi.org/simple, https://us-python.pkg.dev/colab-wheels/public/simple/\n",
            "Collecting pyswmm\n",
            "  Downloading pyswmm-1.2.0-py3-none-any.whl (101 kB)\n",
            "\u001b[K     |████████████████████████████████| 101 kB 7.1 MB/s \n",
            "\u001b[?25hCollecting aenum>=3.1.11\n",
            "  Downloading aenum-3.1.11-py3-none-any.whl (131 kB)\n",
            "\u001b[K     |████████████████████████████████| 131 kB 54.7 MB/s \n",
            "\u001b[?25hCollecting swmm-toolkit>=0.9.0\n",
            "  Downloading swmm_toolkit-0.9.0-cp37-cp37m-manylinux_2_17_x86_64.manylinux2014_x86_64.whl (458 kB)\n",
            "\u001b[K     |████████████████████████████████| 458 kB 62.1 MB/s \n",
            "\u001b[?25hCollecting julian>=0.14\n",
            "  Downloading julian-0.14.zip (2.8 kB)\n",
            "Building wheels for collected packages: julian\n",
            "  Building wheel for julian (setup.py) ... \u001b[?25l\u001b[?25hdone\n",
            "  Created wheel for julian: filename=julian-0.14-py3-none-any.whl size=2633 sha256=d199def44428b2a16a45f30084f17b5e7289ad34a09eddcee1f937635fe052aa\n",
            "  Stored in directory: /root/.cache/pip/wheels/bb/58/2a/4109ff5870c163b26a499fb8b828ede50e96264571a4f082d3\n",
            "Successfully built julian\n",
            "Installing collected packages: aenum, swmm-toolkit, julian, pyswmm\n",
            "Successfully installed aenum-3.1.11 julian-0.14 pyswmm-1.2.0 swmm-toolkit-0.9.0\n"
          ]
        }
      ],
      "source": [
        "!pip install pyswmm"
      ]
    },
    {
      "cell_type": "markdown",
      "source": [
        "# Imports"
      ],
      "metadata": {
        "id": "kXFB6oVgckpR"
      }
    },
    {
      "cell_type": "code",
      "source": [
        "from pyswmm import Simulation, Nodes, Links"
      ],
      "metadata": {
        "id": "6vDJMA_ScZFl"
      },
      "execution_count": 5,
      "outputs": []
    },
    {
      "cell_type": "markdown",
      "source": [
        "# Nodes selection\n",
        "\n",
        "\n",
        "1.   Junctions\n",
        "2.   Outfalls\n",
        "3.   Dividers\n",
        "4.   Storage Units\n",
        "\n"
      ],
      "metadata": {
        "id": "UijT6WxPeclk"
      }
    },
    {
      "cell_type": "code",
      "source": [
        "with Simulation('Site_Drainage_Model.inp') as sim:\n",
        "    node_object = Nodes(sim)\n",
        "\n",
        "    # Get Juncton with name J3\n",
        "    J3 = node_object['J3']\n",
        "    J3 = node_object['J4']\n",
        "    print(J3.invert_elevation)\n",
        "    J3.invert_elevation = 5000\n",
        "    print(J3.invert_elevation)\n",
        "    \n",
        "    print(J3.is_junction())\n",
        "\n",
        "    J3 = node_object['J4']\n",
        "    print(J3.invert_elevation)"
      ],
      "metadata": {
        "colab": {
          "base_uri": "https://localhost:8080/"
        },
        "id": "6k4L241HevV_",
        "outputId": "9e528dd2-3ecf-4087-cddf-b7e75f0c2f32"
      },
      "execution_count": 39,
      "outputs": [
        {
          "output_type": "stream",
          "name": "stdout",
          "text": [
            "4971.0\n",
            "5000.0\n",
            "True\n",
            "5000.0\n"
          ]
        }
      ]
    },
    {
      "cell_type": "code",
      "source": [
        "#Step through a simulation\n",
        "with Simulation('Site_Drainage_Model.inp') as sim:\n",
        "    for step in sim:\n",
        "        print(J3.total_inflow)"
      ],
      "metadata": {
        "id": "lKu-j349gUom"
      },
      "execution_count": null,
      "outputs": []
    },
    {
      "cell_type": "markdown",
      "source": [
        "# Links\n",
        "\n",
        "\n",
        "1.   Conduits\n",
        "2.   Pumps\n",
        "3.   Orifices\n",
        "4.   Weirs\n",
        "5.   Outlets\n",
        "\n"
      ],
      "metadata": {
        "id": "A_Trma81iKRE"
      }
    },
    {
      "cell_type": "code",
      "source": [
        "with Simulation('Site_Drainage_Model.inp') as sim:\n",
        "    node_object = Nodes(sim)\n",
        "    # Get Juncton with name J3\n",
        "    J3 = node_object['J3']\n",
        "    J4 = node_object['J4']\n",
        "    \n",
        "    link_object = Links(sim)\n",
        "    # J3:J4 link instance \n",
        "    c3 = link_object['C3']\n",
        "    print(c3.inlet_node)\n",
        "    print(c3.outlet_node)\n",
        "    print(c3.flow_limit)\n",
        "    print(link_object[\"J3\":\"J4\"])\n"
      ],
      "metadata": {
        "colab": {
          "base_uri": "https://localhost:8080/",
          "height": 398
        },
        "id": "KGCjhcI7iIGQ",
        "outputId": "98d05f8d-b18c-433e-e511-caf5aaae1500"
      },
      "execution_count": 49,
      "outputs": [
        {
          "output_type": "stream",
          "name": "stdout",
          "text": [
            "J3\n",
            "J4\n",
            "0.0\n"
          ]
        },
        {
          "output_type": "error",
          "ename": "TypeError",
          "evalue": "ignored",
          "traceback": [
            "\u001b[0;31m---------------------------------------------------------------------------\u001b[0m",
            "\u001b[0;31mTypeError\u001b[0m                                 Traceback (most recent call last)",
            "\u001b[0;32m<ipython-input-49-1d91796b9711>\u001b[0m in \u001b[0;36m<module>\u001b[0;34m\u001b[0m\n\u001b[1;32m     11\u001b[0m     \u001b[0mprint\u001b[0m\u001b[0;34m(\u001b[0m\u001b[0mc3\u001b[0m\u001b[0;34m.\u001b[0m\u001b[0moutlet_node\u001b[0m\u001b[0;34m)\u001b[0m\u001b[0;34m\u001b[0m\u001b[0;34m\u001b[0m\u001b[0m\n\u001b[1;32m     12\u001b[0m     \u001b[0mprint\u001b[0m\u001b[0;34m(\u001b[0m\u001b[0mc3\u001b[0m\u001b[0;34m.\u001b[0m\u001b[0mflow_limit\u001b[0m\u001b[0;34m)\u001b[0m\u001b[0;34m\u001b[0m\u001b[0;34m\u001b[0m\u001b[0m\n\u001b[0;32m---> 13\u001b[0;31m     \u001b[0mprint\u001b[0m\u001b[0;34m(\u001b[0m\u001b[0mlink_object\u001b[0m\u001b[0;34m[\u001b[0m\u001b[0;34m\"J3\"\u001b[0m\u001b[0;34m:\u001b[0m\u001b[0;34m\"J4\"\u001b[0m\u001b[0;34m]\u001b[0m\u001b[0;34m)\u001b[0m\u001b[0;34m\u001b[0m\u001b[0;34m\u001b[0m\u001b[0m\n\u001b[0m",
            "\u001b[0;32m/usr/local/lib/python3.7/dist-packages/pyswmm/links.py\u001b[0m in \u001b[0;36m__getitem__\u001b[0;34m(self, linkid)\u001b[0m\n\u001b[1;32m     88\u001b[0m \u001b[0;34m\u001b[0m\u001b[0m\n\u001b[1;32m     89\u001b[0m     \u001b[0;32mdef\u001b[0m \u001b[0m__getitem__\u001b[0m\u001b[0;34m(\u001b[0m\u001b[0mself\u001b[0m\u001b[0;34m,\u001b[0m \u001b[0mlinkid\u001b[0m\u001b[0;34m)\u001b[0m\u001b[0;34m:\u001b[0m\u001b[0;34m\u001b[0m\u001b[0;34m\u001b[0m\u001b[0m\n\u001b[0;32m---> 90\u001b[0;31m         \u001b[0;32mif\u001b[0m \u001b[0mself\u001b[0m\u001b[0;34m.\u001b[0m\u001b[0m__contains__\u001b[0m\u001b[0;34m(\u001b[0m\u001b[0mlinkid\u001b[0m\u001b[0;34m)\u001b[0m\u001b[0;34m:\u001b[0m\u001b[0;34m\u001b[0m\u001b[0;34m\u001b[0m\u001b[0m\n\u001b[0m\u001b[1;32m     91\u001b[0m             \u001b[0mln\u001b[0m \u001b[0;34m=\u001b[0m \u001b[0mLink\u001b[0m\u001b[0;34m(\u001b[0m\u001b[0mself\u001b[0m\u001b[0;34m.\u001b[0m\u001b[0m_model\u001b[0m\u001b[0;34m,\u001b[0m \u001b[0mlinkid\u001b[0m\u001b[0;34m)\u001b[0m\u001b[0;34m\u001b[0m\u001b[0;34m\u001b[0m\u001b[0m\n\u001b[1;32m     92\u001b[0m             \u001b[0m_ln\u001b[0m \u001b[0;34m=\u001b[0m \u001b[0mln\u001b[0m\u001b[0;34m\u001b[0m\u001b[0;34m\u001b[0m\u001b[0m\n",
            "\u001b[0;32m/usr/local/lib/python3.7/dist-packages/pyswmm/links.py\u001b[0m in \u001b[0;36m__contains__\u001b[0;34m(self, linkid)\u001b[0m\n\u001b[1;32m     85\u001b[0m         \u001b[0;34m:\u001b[0m\u001b[0mrtype\u001b[0m\u001b[0;34m:\u001b[0m \u001b[0mbool\u001b[0m\u001b[0;34m\u001b[0m\u001b[0;34m\u001b[0m\u001b[0m\n\u001b[1;32m     86\u001b[0m         \"\"\"\n\u001b[0;32m---> 87\u001b[0;31m         \u001b[0;32mreturn\u001b[0m \u001b[0mself\u001b[0m\u001b[0;34m.\u001b[0m\u001b[0m_model\u001b[0m\u001b[0;34m.\u001b[0m\u001b[0mObjectIDexist\u001b[0m\u001b[0;34m(\u001b[0m\u001b[0mObjectType\u001b[0m\u001b[0;34m.\u001b[0m\u001b[0mLINK\u001b[0m\u001b[0;34m.\u001b[0m\u001b[0mvalue\u001b[0m\u001b[0;34m,\u001b[0m \u001b[0mlinkid\u001b[0m\u001b[0;34m)\u001b[0m\u001b[0;34m\u001b[0m\u001b[0;34m\u001b[0m\u001b[0m\n\u001b[0m\u001b[1;32m     88\u001b[0m \u001b[0;34m\u001b[0m\u001b[0m\n\u001b[1;32m     89\u001b[0m     \u001b[0;32mdef\u001b[0m \u001b[0m__getitem__\u001b[0m\u001b[0;34m(\u001b[0m\u001b[0mself\u001b[0m\u001b[0;34m,\u001b[0m \u001b[0mlinkid\u001b[0m\u001b[0;34m)\u001b[0m\u001b[0;34m:\u001b[0m\u001b[0;34m\u001b[0m\u001b[0;34m\u001b[0m\u001b[0m\n",
            "\u001b[0;32m/usr/local/lib/python3.7/dist-packages/pyswmm/swmm5.py\u001b[0m in \u001b[0;36mObjectIDexist\u001b[0;34m(self, objecttype, ID)\u001b[0m\n\u001b[1;32m    552\u001b[0m     \u001b[0;32mdef\u001b[0m \u001b[0mObjectIDexist\u001b[0m\u001b[0;34m(\u001b[0m\u001b[0mself\u001b[0m\u001b[0;34m,\u001b[0m \u001b[0mobjecttype\u001b[0m\u001b[0;34m,\u001b[0m \u001b[0mID\u001b[0m\u001b[0;34m)\u001b[0m\u001b[0;34m:\u001b[0m\u001b[0;34m\u001b[0m\u001b[0;34m\u001b[0m\u001b[0m\n\u001b[1;32m    553\u001b[0m         \u001b[0;34m\"\"\"Check if Object ID Exists. Mostly used as an internal function.\"\"\"\u001b[0m\u001b[0;34m\u001b[0m\u001b[0;34m\u001b[0m\u001b[0m\n\u001b[0;32m--> 554\u001b[0;31m         \u001b[0mindex\u001b[0m \u001b[0;34m=\u001b[0m \u001b[0msolver\u001b[0m\u001b[0;34m.\u001b[0m\u001b[0mproject_get_index\u001b[0m\u001b[0;34m(\u001b[0m\u001b[0mobjecttype\u001b[0m\u001b[0;34m,\u001b[0m \u001b[0mID\u001b[0m\u001b[0;34m)\u001b[0m\u001b[0;34m\u001b[0m\u001b[0;34m\u001b[0m\u001b[0m\n\u001b[0m\u001b[1;32m    555\u001b[0m \u001b[0;34m\u001b[0m\u001b[0m\n\u001b[1;32m    556\u001b[0m         \u001b[0;32mif\u001b[0m \u001b[0mindex\u001b[0m \u001b[0;34m!=\u001b[0m \u001b[0;34m-\u001b[0m\u001b[0;36m1\u001b[0m\u001b[0;34m:\u001b[0m\u001b[0;34m\u001b[0m\u001b[0;34m\u001b[0m\u001b[0m\n",
            "\u001b[0;32m/usr/local/lib/python3.7/dist-packages/swmm/toolkit/solver.py\u001b[0m in \u001b[0;36mproject_get_index\u001b[0;34m(type, id)\u001b[0m\n\u001b[1;32m    605\u001b[0m \u001b[0;34m\u001b[0m\u001b[0m\n\u001b[1;32m    606\u001b[0m     \"\"\"\n\u001b[0;32m--> 607\u001b[0;31m     \u001b[0;32mreturn\u001b[0m \u001b[0m_solver\u001b[0m\u001b[0;34m.\u001b[0m\u001b[0mproject_get_index\u001b[0m\u001b[0;34m(\u001b[0m\u001b[0mtype\u001b[0m\u001b[0;34m,\u001b[0m \u001b[0mid\u001b[0m\u001b[0;34m)\u001b[0m\u001b[0;34m\u001b[0m\u001b[0;34m\u001b[0m\u001b[0m\n\u001b[0m\u001b[1;32m    608\u001b[0m \u001b[0;34m\u001b[0m\u001b[0m\n\u001b[1;32m    609\u001b[0m \u001b[0;32mdef\u001b[0m \u001b[0msimulation_get_unit\u001b[0m\u001b[0;34m(\u001b[0m\u001b[0mtype\u001b[0m\u001b[0;34m:\u001b[0m \u001b[0;34m\"SM_Units\"\u001b[0m\u001b[0;34m)\u001b[0m \u001b[0;34m->\u001b[0m \u001b[0;34m\"int *\"\u001b[0m\u001b[0;34m:\u001b[0m\u001b[0;34m\u001b[0m\u001b[0;34m\u001b[0m\u001b[0m\n",
            "\u001b[0;31mTypeError\u001b[0m: in method 'project_get_index', argument 2 of type 'char *'"
          ]
        }
      ]
    }
  ]
}